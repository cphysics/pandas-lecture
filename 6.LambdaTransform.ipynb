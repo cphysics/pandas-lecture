{
 "cells": [
  {
   "cell_type": "markdown",
   "metadata": {},
   "source": [
    "# Lambda Transformation"
   ]
  },
  {
   "cell_type": "markdown",
   "metadata": {},
   "source": [
    "-------------"
   ]
  },
  {
   "cell_type": "code",
   "execution_count": 1,
   "metadata": {},
   "outputs": [],
   "source": [
    "import pandas as pd\n",
    "import numpy as np\n",
    "import seaborn as sns\n",
    "import matplotlib.pyplot as plt\n",
    "%matplotlib inline"
   ]
  },
  {
   "cell_type": "markdown",
   "metadata": {},
   "source": [
    "###  Load data"
   ]
  },
  {
   "cell_type": "markdown",
   "metadata": {},
   "source": [
    "---------"
   ]
  },
  {
   "cell_type": "code",
   "execution_count": 2,
   "metadata": {},
   "outputs": [],
   "source": [
    "titanic = pd.read_csv('data/titanic.csv')"
   ]
  },
  {
   "cell_type": "markdown",
   "metadata": {},
   "source": [
    "### Setting Name column as index"
   ]
  },
  {
   "cell_type": "code",
   "execution_count": 3,
   "metadata": {},
   "outputs": [],
   "source": [
    "df1 = titanic.copy(deep =True)"
   ]
  },
  {
   "cell_type": "code",
   "execution_count": 4,
   "metadata": {},
   "outputs": [
    {
     "data": {
      "text/html": [
       "<div>\n",
       "<style scoped>\n",
       "    .dataframe tbody tr th:only-of-type {\n",
       "        vertical-align: middle;\n",
       "    }\n",
       "\n",
       "    .dataframe tbody tr th {\n",
       "        vertical-align: top;\n",
       "    }\n",
       "\n",
       "    .dataframe thead th {\n",
       "        text-align: right;\n",
       "    }\n",
       "</style>\n",
       "<table border=\"1\" class=\"dataframe\">\n",
       "  <thead>\n",
       "    <tr style=\"text-align: right;\">\n",
       "      <th></th>\n",
       "      <th>PassengerId</th>\n",
       "      <th>Survived</th>\n",
       "      <th>Pclass</th>\n",
       "      <th>Sex</th>\n",
       "      <th>Age</th>\n",
       "      <th>SibSp</th>\n",
       "      <th>Parch</th>\n",
       "      <th>Ticket</th>\n",
       "      <th>Fare</th>\n",
       "      <th>Cabin</th>\n",
       "      <th>Embarked</th>\n",
       "    </tr>\n",
       "    <tr>\n",
       "      <th>Name</th>\n",
       "      <th></th>\n",
       "      <th></th>\n",
       "      <th></th>\n",
       "      <th></th>\n",
       "      <th></th>\n",
       "      <th></th>\n",
       "      <th></th>\n",
       "      <th></th>\n",
       "      <th></th>\n",
       "      <th></th>\n",
       "      <th></th>\n",
       "    </tr>\n",
       "  </thead>\n",
       "  <tbody>\n",
       "    <tr>\n",
       "      <th>Braund, Mr. Owen Harris</th>\n",
       "      <td>1</td>\n",
       "      <td>0</td>\n",
       "      <td>3</td>\n",
       "      <td>male</td>\n",
       "      <td>22.0</td>\n",
       "      <td>1</td>\n",
       "      <td>0</td>\n",
       "      <td>A/5 21171</td>\n",
       "      <td>7.2500</td>\n",
       "      <td>NaN</td>\n",
       "      <td>S</td>\n",
       "    </tr>\n",
       "    <tr>\n",
       "      <th>Cumings, Mrs. John Bradley (Florence Briggs Thayer)</th>\n",
       "      <td>2</td>\n",
       "      <td>1</td>\n",
       "      <td>1</td>\n",
       "      <td>female</td>\n",
       "      <td>38.0</td>\n",
       "      <td>1</td>\n",
       "      <td>0</td>\n",
       "      <td>PC 17599</td>\n",
       "      <td>71.2833</td>\n",
       "      <td>C85</td>\n",
       "      <td>C</td>\n",
       "    </tr>\n",
       "  </tbody>\n",
       "</table>\n",
       "</div>"
      ],
      "text/plain": [
       "                                                    PassengerId  Survived  \\\n",
       "Name                                                                        \n",
       "Braund, Mr. Owen Harris                                       1         0   \n",
       "Cumings, Mrs. John Bradley (Florence Briggs Tha...            2         1   \n",
       "\n",
       "                                                    Pclass     Sex   Age  \\\n",
       "Name                                                                       \n",
       "Braund, Mr. Owen Harris                                  3    male  22.0   \n",
       "Cumings, Mrs. John Bradley (Florence Briggs Tha...       1  female  38.0   \n",
       "\n",
       "                                                    SibSp  Parch     Ticket  \\\n",
       "Name                                                                          \n",
       "Braund, Mr. Owen Harris                                 1      0  A/5 21171   \n",
       "Cumings, Mrs. John Bradley (Florence Briggs Tha...      1      0   PC 17599   \n",
       "\n",
       "                                                       Fare Cabin Embarked  \n",
       "Name                                                                        \n",
       "Braund, Mr. Owen Harris                              7.2500   NaN        S  \n",
       "Cumings, Mrs. John Bradley (Florence Briggs Tha...  71.2833   C85        C  "
      ]
     },
     "execution_count": 4,
     "metadata": {},
     "output_type": "execute_result"
    }
   ],
   "source": [
    "df1 = titanic.set_index('Name')\n",
    "df1.head(2)"
   ]
  },
  {
   "cell_type": "markdown",
   "metadata": {},
   "source": [
    "-----------"
   ]
  },
  {
   "cell_type": "markdown",
   "metadata": {},
   "source": [
    "### Lambda Transformation"
   ]
  },
  {
   "cell_type": "code",
   "execution_count": 5,
   "metadata": {},
   "outputs": [
    {
     "data": {
      "text/plain": [
       "Name\n",
       "Braund, Mr. Owen Harris                                         54.412500\n",
       "Cumings, Mrs. John Bradley (Florence Briggs Thayer)           5095.965519\n",
       "Heikkinen, Miss. Laina                                          64.790625\n",
       "Futrelle, Mrs. Jacques Heath (Lily May Peel)                  2830.630000\n",
       "Allen, Mr. William Henry                                        66.812500\n",
       "Moran, Mr. James                                                73.634499\n",
       "McCarthy, Mr. Timothy J                                       2700.491406\n",
       "Palsson, Master. Gosta Leonard                                 448.770625\n",
       "Johnson, Mrs. Oscar W (Elisabeth Vilhelmina Berg)              126.577029\n",
       "Nasser, Mrs. Nicholas (Adele Achem)                            910.667173\n",
       "Sandstrom, Miss. Marguerite Rut                                282.630000\n",
       "Bonnell, Miss. Elizabeth                                       710.612500\n",
       "Saundercock, Mr. William Henry                                  66.812500\n",
       "Andersson, Mr. Anders Johan                                    984.780625\n",
       "Vestrom, Miss. Hulda Amanda Adolfina                            63.659298\n",
       "Hewlett, Mrs. (Mary D Kingcome)                                259.600000\n",
       "Rice, Master. Eugene                                           854.490625\n",
       "Williams, Mr. Charles Eugene                                   172.000000\n",
       "Vander Planke, Mrs. Julius (Emelia Maria Vandemoortele)        328.000000\n",
       "Masselmani, Mrs. Fatima                                         54.045625\n",
       "Fynney, Mr. Joseph J                                           681.600000\n",
       "Beesley, Mr. Lawrence                                          172.000000\n",
       "McGowan, Miss. Anna \"Annie\"                                     66.473893\n",
       "Sloper, Mr. William Thompson                                  1267.750000\n",
       "Palsson, Miss. Torborg Danira                                  448.770625\n",
       "Asplund, Mrs. Carl Oscar (Selma Augusta Emilia Johansson)      991.852656\n",
       "Emir, Mr. Farred Chehab                                         54.045625\n",
       "Fortune, Mr. Charles Alexander                               69222.000000\n",
       "O'Dwyer, Miss. Ellen \"Nellie\"                                   64.057633\n",
       "Todoroff, Mr. Lalio                                             64.322818\n",
       "                                                                 ...     \n",
       "Giles, Mr. Frederick Edward                                    134.950000\n",
       "Swift, Mrs. Frederick Joel (Margaret Welles Barron)            677.909253\n",
       "Sage, Miss. Dorothy Edith \"Dolly\"                             4851.512500\n",
       "Gill, Mr. John William                                         172.000000\n",
       "Bystrom, Mrs. (Karolina)                                       172.000000\n",
       "Duran y More, Miss. Asuncion                                   195.224139\n",
       "Roebling, Mr. Washington Augustus II                          2560.324978\n",
       "van Melkebeke, Mr. Philemon                                     92.550000\n",
       "Johnson, Master. Harold Theodor                                126.577029\n",
       "Balkic, Mr. Cerin                                               64.322818\n",
       "Beckwith, Mrs. Richard Leonard (Sallie Monypeny)              2772.854778\n",
       "Carlsson, Mr. Frans Olof                                        26.400000\n",
       "Vander Cruyssen, Mr. Victor                                     83.200000\n",
       "Abelson, Mrs. Samuel (Hannah Wizosky)                          581.200000\n",
       "Najib, Miss. Adele Kiamie \"Jane\"                                54.045625\n",
       "Gustafsson, Mr. Alfred Ossian                                   99.308938\n",
       "Petroff, Mr. Nedelio                                            64.322818\n",
       "Laleff, Mr. Kristo                                              64.322818\n",
       "Potter, Mrs. Thomas Jr (Lily Alexenia Wilson)                 6932.334519\n",
       "Shelley, Mrs. William (Imanita Parrish Hall)                   681.600000\n",
       "Markun, Mr. Johann                                              64.322818\n",
       "Dahlberg, Miss. Gerda Ulrika                                   113.104319\n",
       "Banfield, Mr. Frederick James                                  112.750000\n",
       "Sutehall, Mr. Henry Jr                                          51.512500\n",
       "Rice, Mrs. William (Margaret Norton)                           854.490625\n",
       "Montvila, Rev. Juozas                                          172.000000\n",
       "Graham, Miss. Margaret Edith                                   906.400000\n",
       "Johnston, Miss. Catherine Helen \"Carrie\"                       554.992500\n",
       "Behr, Mr. Karl Howell                                          906.400000\n",
       "Dooley, Mr. Patrick                                             62.012500\n",
       "Name: Fare, Length: 891, dtype: float64"
      ]
     },
     "execution_count": 5,
     "metadata": {},
     "output_type": "execute_result"
    }
   ],
   "source": [
    "df1['Fare'].apply(lambda x: (10*x**2 + 2*x +4)/10)"
   ]
  },
  {
   "cell_type": "code",
   "execution_count": 6,
   "metadata": {},
   "outputs": [],
   "source": [
    "def newfeature(x):\n",
    "    return 10 + x/3 + x**2"
   ]
  },
  {
   "cell_type": "code",
   "execution_count": 7,
   "metadata": {},
   "outputs": [
    {
     "data": {
      "text/plain": [
       "Name\n",
       "Braund, Mr. Owen Harris                                         64.979167\n",
       "Cumings, Mrs. John Bradley (Florence Briggs Thayer)           5115.069959\n",
       "Heikkinen, Miss. Laina                                          75.447292\n",
       "Futrelle, Mrs. Jacques Heath (Lily May Peel)                  2847.310000\n",
       "Allen, Mr. William Henry                                        77.485833\n",
       "Moran, Mr. James                                                84.362272\n",
       "McCarthy, Mr. Timothy J                                       2717.006406\n",
       "Palsson, Master. Gosta Leonard                                 461.180625\n",
       "Johnson, Mrs. Oscar W (Elisabeth Vilhelmina Berg)              137.661469\n",
       "Nasser, Mrs. Nicholas (Adele Achem)                            924.276613\n",
       "Sandstrom, Miss. Marguerite Rut                                294.456667\n",
       "Bonnell, Miss. Elizabeth                                       723.752500\n",
       "Saundercock, Mr. William Henry                                  77.485833\n",
       "Andersson, Mr. Anders Johan                                    998.550625\n",
       "Vestrom, Miss. Hulda Amanda Adolfina                            74.306524\n",
       "Hewlett, Mrs. (Mary D Kingcome)                                271.333333\n",
       "Rice, Master. Eugene                                           867.973958\n",
       "Williams, Mr. Charles Eugene                                   183.333333\n",
       "Vander Planke, Mrs. Julius (Emelia Maria Vandemoortele)        340.000000\n",
       "Masselmani, Mrs. Fatima                                         64.608958\n",
       "Fynney, Mr. Joseph J                                           694.666667\n",
       "Beesley, Mr. Lawrence                                          183.333333\n",
       "McGowan, Miss. Anna \"Annie\"                                     77.144453\n",
       "Sloper, Mr. William Thompson                                  1282.083333\n",
       "Palsson, Miss. Torborg Danira                                  461.180625\n",
       "Asplund, Mrs. Carl Oscar (Selma Augusta Emilia Johansson)     1005.637656\n",
       "Emir, Mr. Farred Chehab                                         64.608958\n",
       "Fortune, Mr. Charles Alexander                               69266.666667\n",
       "O'Dwyer, Miss. Ellen \"Nellie\"                                   74.708193\n",
       "Todoroff, Mr. Lalio                                             74.975591\n",
       "                                                                 ...     \n",
       "Giles, Mr. Frederick Edward                                    146.083333\n",
       "Swift, Mrs. Frederick Joel (Margaret Welles Barron)            690.966479\n",
       "Sage, Miss. Dorothy Edith \"Dolly\"                             4870.385833\n",
       "Gill, Mr. John William                                         183.333333\n",
       "Bystrom, Mrs. (Karolina)                                       183.333333\n",
       "Duran y More, Miss. Asuncion                                   206.671912\n",
       "Roebling, Mr. Washington Augustus II                          2576.657751\n",
       "van Melkebeke, Mr. Philemon                                    103.416667\n",
       "Johnson, Master. Harold Theodor                                137.661469\n",
       "Balkic, Mr. Cerin                                               74.975591\n",
       "Beckwith, Mrs. Richard Leonard (Sallie Monypeny)              2789.462004\n",
       "Carlsson, Mr. Frans Olof                                        36.666667\n",
       "Vander Cruyssen, Mr. Victor                                     94.000000\n",
       "Abelson, Mrs. Samuel (Hannah Wizosky)                          594.000000\n",
       "Najib, Miss. Adele Kiamie \"Jane\"                                64.608958\n",
       "Gustafsson, Mr. Alfred Ossian                                  110.221711\n",
       "Petroff, Mr. Nedelio                                            74.975591\n",
       "Laleff, Mr. Kristo                                              74.975591\n",
       "Potter, Mrs. Thomas Jr (Lily Alexenia Wilson)                 6953.022292\n",
       "Shelley, Mrs. William (Imanita Parrish Hall)                   694.666667\n",
       "Markun, Mr. Johann                                              74.975591\n",
       "Dahlberg, Miss. Gerda Ulrika                                   124.106546\n",
       "Banfield, Mr. Frederick James                                  123.750000\n",
       "Sutehall, Mr. Henry Jr                                          62.052500\n",
       "Rice, Mrs. William (Margaret Norton)                           867.973958\n",
       "Montvila, Rev. Juozas                                          183.333333\n",
       "Graham, Miss. Margaret Edith                                   920.000000\n",
       "Johnston, Miss. Catherine Helen \"Carrie\"                       567.719167\n",
       "Behr, Mr. Karl Howell                                          920.000000\n",
       "Dooley, Mr. Patrick                                             72.645833\n",
       "Name: Fare, Length: 891, dtype: float64"
      ]
     },
     "execution_count": 7,
     "metadata": {},
     "output_type": "execute_result"
    }
   ],
   "source": [
    "df1['Fare'].apply(newfeature)"
   ]
  }
 ],
 "metadata": {
  "kernelspec": {
   "display_name": "Python 3",
   "language": "python",
   "name": "python3"
  },
  "language_info": {
   "codemirror_mode": {
    "name": "ipython",
    "version": 3
   },
   "file_extension": ".py",
   "mimetype": "text/x-python",
   "name": "python",
   "nbconvert_exporter": "python",
   "pygments_lexer": "ipython3",
   "version": "3.7.1"
  }
 },
 "nbformat": 4,
 "nbformat_minor": 2
}
